{
 "cells": [
  {
   "cell_type": "code",
   "execution_count": 1,
   "metadata": {},
   "outputs": [
    {
     "name": "stdout",
     "output_type": "stream",
     "text": [
      "Requirement already satisfied: pytesseract in ./temp/lib/python3.8/site-packages (0.3.10)\n",
      "Requirement already satisfied: packaging>=21.3 in ./temp/lib/python3.8/site-packages (from pytesseract) (23.1)\n",
      "Requirement already satisfied: Pillow>=8.0.0 in ./temp/lib/python3.8/site-packages (from pytesseract) (9.3.0)\n",
      "Looking in indexes: https://pypi.org/simple, https://download.pytorch.org/whl/cpu\n",
      "Requirement already satisfied: torch==1.13.1+cpu in ./temp/lib/python3.8/site-packages (1.13.1+cpu)\n",
      "Requirement already satisfied: torchvision==0.14.1+cpu in ./temp/lib/python3.8/site-packages (0.14.1+cpu)\n",
      "Requirement already satisfied: torchaudio==0.13.1 in ./temp/lib/python3.8/site-packages (0.13.1+cpu)\n",
      "Requirement already satisfied: typing-extensions in ./temp/lib/python3.8/site-packages (from torch==1.13.1+cpu) (4.5.0)\n",
      "Requirement already satisfied: numpy in ./temp/lib/python3.8/site-packages (from torchvision==0.14.1+cpu) (1.21.6)\n",
      "Requirement already satisfied: requests in ./temp/lib/python3.8/site-packages (from torchvision==0.14.1+cpu) (2.28.0)\n",
      "Requirement already satisfied: pillow!=8.3.*,>=5.3.0 in ./temp/lib/python3.8/site-packages (from torchvision==0.14.1+cpu) (9.3.0)\n",
      "Requirement already satisfied: urllib3<1.27,>=1.21.1 in ./temp/lib/python3.8/site-packages (from requests->torchvision==0.14.1+cpu) (1.26.15)\n",
      "Requirement already satisfied: certifi>=2017.4.17 in ./temp/lib/python3.8/site-packages (from requests->torchvision==0.14.1+cpu) (2022.12.7)\n",
      "Requirement already satisfied: idna<4,>=2.5 in ./temp/lib/python3.8/site-packages (from requests->torchvision==0.14.1+cpu) (3.4)\n",
      "Requirement already satisfied: charset-normalizer~=2.0.0 in ./temp/lib/python3.8/site-packages (from requests->torchvision==0.14.1+cpu) (2.0.12)\n"
     ]
    }
   ],
   "source": [
    "! pip install -q git+https://github.com/huggingface/transformers.git\n",
    "# ! sudo apt install tesseract-ocr\n",
    "# ! sudo apt install libtesseract-dev\n",
    "! pip install pytesseract\n",
    "! pip install torch==1.13.1+cpu torchvision==0.14.1+cpu torchaudio==0.13.1 --extra-index-url https://download.pytorch.org/whl/cpu"
   ]
  },
  {
   "cell_type": "code",
   "execution_count": 2,
   "metadata": {},
   "outputs": [
    {
     "name": "stderr",
     "output_type": "stream",
     "text": [
      "/home/ronakpatel/Documents/OFFICE/Testing/temp/lib/python3.8/site-packages/tqdm/auto.py:21: TqdmWarning: IProgress not found. Please update jupyter and ipywidgets. See https://ipywidgets.readthedocs.io/en/stable/user_install.html\n",
      "  from .autonotebook import tqdm as notebook_tqdm\n"
     ]
    }
   ],
   "source": [
    "import os\n",
    "import torch\n",
    "import warnings\n",
    "from PIL import Image\n",
    "\n",
    "warnings.filterwarnings('ignore')"
   ]
  },
  {
   "cell_type": "code",
   "execution_count": null,
   "metadata": {},
   "outputs": [],
   "source": [
    "! pip install gdown"
   ]
  },
  {
   "cell_type": "code",
   "execution_count": 5,
   "metadata": {},
   "outputs": [
    {
     "name": "stdout",
     "output_type": "stream",
     "text": [
      "Downloading...\n",
      "From (uriginal): https://drive.google.com/uc?id=1-3OjHvNSfIz91ASOxhkFogttY-i_gidH\n",
      "From (redirected): https://drive.google.com/uc?id=1-3OjHvNSfIz91ASOxhkFogttY-i_gidH&confirm=t&uuid=cb57e082-66c1-47c2-9e2a-c20d36546a11\n",
      "To: /home/ronakpatel/Documents/OFFICE/Testing/LAYOUTLMV2.pth\n",
      "100%|██████████████████████████████████████| 1.71G/1.71G [05:04<00:00, 5.61MB/s]\n"
     ]
    }
   ],
   "source": [
    "!gdown '1-3OjHvNSfIz91ASOxhkFogttY-i_gidH'"
   ]
  },
  {
   "cell_type": "code",
   "execution_count": 6,
   "metadata": {},
   "outputs": [],
   "source": [
    "model_path = 'LAYOUTLMV2.pth' # path to Layoutlmv3 model \n",
    "imag_path = \"data/\" # images folder"
   ]
  },
  {
   "cell_type": "code",
   "execution_count": 7,
   "metadata": {},
   "outputs": [
    {
     "name": "stdout",
     "output_type": "stream",
     "text": [
      "Estimating resolution as 269\n"
     ]
    }
   ],
   "source": [
    "# Call inference module\n",
    "!python3 layoutlmv3FineTuning/run_inference.py --model_path \"$model_path\" --images_path $imag_path"
   ]
  },
  {
   "cell_type": "code",
   "execution_count": null,
   "metadata": {},
   "outputs": [],
   "source": []
  }
 ],
 "metadata": {
  "kernelspec": {
   "display_name": "temp",
   "language": "python",
   "name": "python3"
  },
  "language_info": {
   "codemirror_mode": {
    "name": "ipython",
    "version": 3
   },
   "file_extension": ".py",
   "mimetype": "text/x-python",
   "name": "python",
   "nbconvert_exporter": "python",
   "pygments_lexer": "ipython3",
   "version": "3.8.10"
  },
  "orig_nbformat": 4
 },
 "nbformat": 4,
 "nbformat_minor": 2
}
