{
 "cells": [
  {
   "cell_type": "code",
   "execution_count": 1,
   "metadata": {},
   "outputs": [
    {
     "name": "stdout",
     "output_type": "stream",
     "text": [
      "Requirement already satisfied: pytesseract in ./temp/lib/python3.8/site-packages (0.3.10)\n",
      "Requirement already satisfied: packaging>=21.3 in ./temp/lib/python3.8/site-packages (from pytesseract) (23.1)\n",
      "Requirement already satisfied: Pillow>=8.0.0 in ./temp/lib/python3.8/site-packages (from pytesseract) (9.3.0)\n",
      "Looking in indexes: https://pypi.org/simple, https://download.pytorch.org/whl/cpu\n",
      "Requirement already satisfied: torch==1.13.1+cpu in ./temp/lib/python3.8/site-packages (1.13.1+cpu)\n",
      "Requirement already satisfied: torchvision==0.14.1+cpu in ./temp/lib/python3.8/site-packages (0.14.1+cpu)\n",
      "Requirement already satisfied: torchaudio==0.13.1 in ./temp/lib/python3.8/site-packages (0.13.1+cpu)\n",
      "Requirement already satisfied: typing-extensions in ./temp/lib/python3.8/site-packages (from torch==1.13.1+cpu) (4.5.0)\n",
      "Requirement already satisfied: numpy in ./temp/lib/python3.8/site-packages (from torchvision==0.14.1+cpu) (1.21.6)\n",
      "Requirement already satisfied: requests in ./temp/lib/python3.8/site-packages (from torchvision==0.14.1+cpu) (2.28.0)\n",
      "Requirement already satisfied: pillow!=8.3.*,>=5.3.0 in ./temp/lib/python3.8/site-packages (from torchvision==0.14.1+cpu) (9.3.0)\n",
      "Requirement already satisfied: urllib3<1.27,>=1.21.1 in ./temp/lib/python3.8/site-packages (from requests->torchvision==0.14.1+cpu) (1.26.15)\n",
      "Requirement already satisfied: certifi>=2017.4.17 in ./temp/lib/python3.8/site-packages (from requests->torchvision==0.14.1+cpu) (2022.12.7)\n",
      "Requirement already satisfied: idna<4,>=2.5 in ./temp/lib/python3.8/site-packages (from requests->torchvision==0.14.1+cpu) (3.4)\n",
      "Requirement already satisfied: charset-normalizer~=2.0.0 in ./temp/lib/python3.8/site-packages (from requests->torchvision==0.14.1+cpu) (2.0.12)\n"
     ]
    }
   ],
   "source": [
    "! pip install -q git+https://github.com/huggingface/transformers.git\n",
    "# ! sudo apt install tesseract-ocr\n",
    "# ! sudo apt install libtesseract-dev\n",
    "! pip install pytesseract\n",
    "! pip install torch==1.13.1+cpu torchvision==0.14.1+cpu torchaudio==0.13.1 --extra-index-url https://download.pytorch.org/whl/cpu"
   ]
  },
  {
   "cell_type": "code",
   "execution_count": 2,
   "metadata": {},
   "outputs": [
    {
     "name": "stderr",
     "output_type": "stream",
     "text": [
      "/home/ronakpatel/Documents/OFFICE/Testing/temp/lib/python3.8/site-packages/tqdm/auto.py:21: TqdmWarning: IProgress not found. Please update jupyter and ipywidgets. See https://ipywidgets.readthedocs.io/en/stable/user_install.html\n",
      "  from .autonotebook import tqdm as notebook_tqdm\n"
     ]
    }
   ],
   "source": [
    "import os\n",
    "import torch\n",
    "import warnings\n",
    "from PIL import Image\n",
    "\n",
    "warnings.filterwarnings('ignore')"
   ]
  },
  {
   "cell_type": "code",
   "execution_count": 3,
   "metadata": {},
   "outputs": [
    {
     "name": "stdout",
     "output_type": "stream",
     "text": [
      "Requirement already satisfied: gdown in ./temp/lib/python3.8/site-packages (4.7.1)\n",
      "Requirement already satisfied: beautifulsoup4 in ./temp/lib/python3.8/site-packages (from gdown) (4.12.2)\n",
      "Requirement already satisfied: requests[socks] in ./temp/lib/python3.8/site-packages (from gdown) (2.28.0)\n",
      "Requirement already satisfied: filelock in ./temp/lib/python3.8/site-packages (from gdown) (3.12.0)\n",
      "Requirement already satisfied: tqdm in ./temp/lib/python3.8/site-packages (from gdown) (4.65.0)\n",
      "Requirement already satisfied: six in ./temp/lib/python3.8/site-packages (from gdown) (1.16.0)\n",
      "Requirement already satisfied: soupsieve>1.2 in ./temp/lib/python3.8/site-packages (from beautifulsoup4->gdown) (2.4.1)\n",
      "Requirement already satisfied: certifi>=2017.4.17 in ./temp/lib/python3.8/site-packages (from requests[socks]->gdown) (2022.12.7)\n",
      "Requirement already satisfied: idna<4,>=2.5 in ./temp/lib/python3.8/site-packages (from requests[socks]->gdown) (3.4)\n",
      "Requirement already satisfied: charset-normalizer~=2.0.0 in ./temp/lib/python3.8/site-packages (from requests[socks]->gdown) (2.0.12)\n",
      "Requirement already satisfied: urllib3<1.27,>=1.21.1 in ./temp/lib/python3.8/site-packages (from requests[socks]->gdown) (1.26.15)\n",
      "Requirement already satisfied: PySocks!=1.5.7,>=1.5.6; extra == \"socks\" in ./temp/lib/python3.8/site-packages (from requests[socks]->gdown) (1.7.1)\n"
     ]
    }
   ],
   "source": [
    "! pip install gdown"
   ]
  },
  {
   "cell_type": "code",
   "execution_count": 5,
   "metadata": {},
   "outputs": [
    {
     "name": "stdout",
     "output_type": "stream",
     "text": [
      "Downloading...\n",
      "From (uriginal): https://drive.google.com/uc?id=1rzxW1lIWBZE0Su1tNm3pcmpOheYBrRLc\n",
      "From (redirected): https://drive.google.com/uc?id=1rzxW1lIWBZE0Su1tNm3pcmpOheYBrRLc&confirm=t&uuid=8f1e69a2-4d8a-4f6e-a7f4-d4be4d64956f\n",
      "To: /home/ronakpatel/Documents/OFFICE/Testing/model.zip\n",
      "100%|██████████████████████████████████████| 1.33G/1.33G [01:16<00:00, 17.3MB/s]\n"
     ]
    }
   ],
   "source": [
    "!gdown '1rzxW1lIWBZE0Su1tNm3pcmpOheYBrRLc'"
   ]
  },
  {
   "cell_type": "code",
   "execution_count": 6,
   "metadata": {},
   "outputs": [
    {
     "name": "stdout",
     "output_type": "stream",
     "text": [
      "Archive:  model.zip\n",
      "   creating: content/models/\n",
      "  inflating: content/models/config.json  \n",
      "  inflating: content/models/pytorch_model.bin  \n"
     ]
    }
   ],
   "source": [
    "!unzip model.zip"
   ]
  },
  {
   "cell_type": "code",
   "execution_count": 9,
   "metadata": {},
   "outputs": [],
   "source": [
    "model_path = 'models/' # path to Layoutlmv3 model \n",
    "imag_path = \"data/\" # images folder"
   ]
  },
  {
   "cell_type": "code",
   "execution_count": 12,
   "metadata": {},
   "outputs": [
    {
     "name": "stdout",
     "output_type": "stream",
     "text": [
      "Estimating resolution as 269\n",
      "Downloading (…)rocessor_config.json: 100%|█████| 275/275 [00:00<00:00, 79.6kB/s]\n",
      "Downloading (…)okenizer_config.json: 100%|██| 1.15k/1.15k [00:00<00:00, 588kB/s]\n",
      "Downloading (…)lve/main/config.json: 100%|██████| 857/857 [00:00<00:00, 158kB/s]\n",
      "Downloading (…)olve/main/vocab.json: 100%|████| 899k/899k [00:01<00:00, 749kB/s]\n",
      "Downloading (…)olve/main/merges.txt: 100%|███| 456k/456k [00:00<00:00, 1.06MB/s]\n",
      "/home/ronakpatel/Documents/OFFICE/Testing/temp/lib/python3.8/site-packages/transformers/modeling_utils.py:874: FutureWarning: The `device` argument is deprecated and will be removed in v5 of Transformers.\n",
      "  warnings.warn(\n"
     ]
    }
   ],
   "source": [
    "# Call inference module\n",
    "!python3 layoutlmv3FineTuning/run_inference.py --model_path \"$model_path\" --images_path $imag_path"
   ]
  },
  {
   "cell_type": "code",
   "execution_count": null,
   "metadata": {},
   "outputs": [],
   "source": []
  }
 ],
 "metadata": {
  "kernelspec": {
   "display_name": "temp",
   "language": "python",
   "name": "python3"
  },
  "language_info": {
   "codemirror_mode": {
    "name": "ipython",
    "version": 3
   },
   "file_extension": ".py",
   "mimetype": "text/x-python",
   "name": "python",
   "nbconvert_exporter": "python",
   "pygments_lexer": "ipython3",
   "version": "3.8.10"
  },
  "orig_nbformat": 4
 },
 "nbformat": 4,
 "nbformat_minor": 2
}
